{
 "cells": [
  {
   "cell_type": "code",
   "execution_count": 1,
   "metadata": {},
   "outputs": [],
   "source": [
    "import sympy as sp\n",
    "import math\n",
    "sp.init_printing()"
   ]
  },
  {
   "cell_type": "markdown",
   "metadata": {},
   "source": [
    "We need to find the solution for the intersection of 2 circles:\n",
    "First circle:\n",
    "\n",
    "$x^2+y^2=r^{2}_1$\n",
    "\n",
    "Second circle, offset by $c_1$ (in the x direction) and $c_2$ (y direction) from the first circle's origin:\n",
    "\n",
    "$(x-c_1)^2+(y-c_2)^2=r^{2}_2$"
   ]
  },
  {
   "cell_type": "code",
   "execution_count": 2,
   "metadata": {},
   "outputs": [],
   "source": [
    "x, y = sp.symbols('x y')\n",
    "r1, r2 = sp.symbols('r1 r2')\n",
    "c1, c2 = sp.symbols('c1 c2')"
   ]
  },
  {
   "cell_type": "markdown",
   "metadata": {},
   "source": [
    "The only difference is that we are going to pass the radius to the same side and make the expression equal to zero:"
   ]
  },
  {
   "cell_type": "code",
   "execution_count": 3,
   "metadata": {},
   "outputs": [
    {
     "data": {
      "image/png": "[encoded data removed]",
      "text/latex": [
       "$$- r_{1}^{2} + x^{2} + y^{2}$$"
      ],
      "text/plain": [
       "    2    2    2\n",
       "- r₁  + x  + y "
      ]
     },
     "execution_count": 3,
     "metadata": {},
     "output_type": "execute_result"
    }
   ],
   "source": [
    "circle1 = x**2 + y**2 - r1**2\n",
    "circle2 = (x-c1)**2 + (y-c2)**2 - r2**2\n",
    "circle1"
   ]
  },
  {
   "cell_type": "markdown",
   "metadata": {},
   "source": [
    "Let's expand the expression for the second circle:"
   ]
  },
  {
   "cell_type": "code",
   "execution_count": 4,
   "metadata": {},
   "outputs": [
    {
     "data": {
      "image/png": "[encoded data removed]",
      "text/latex": [
       "$$c_{1}^{2} - 2 c_{1} x + c_{2}^{2} - 2 c_{2} y - r_{2}^{2} + x^{2} + y^{2}$$"
      ],
      "text/plain": [
       "  2              2              2    2    2\n",
       "c₁  - 2⋅c₁⋅x + c₂  - 2⋅c₂⋅y - r₂  + x  + y "
      ]
     },
     "execution_count": 4,
     "metadata": {},
     "output_type": "execute_result"
    }
   ],
   "source": [
    "temp1 = circle2.expand()\n",
    "temp1"
   ]
  },
  {
   "cell_type": "markdown",
   "metadata": {},
   "source": [
    "Now we can subtract one from the other:"
   ]
  },
  {
   "cell_type": "code",
   "execution_count": 5,
   "metadata": {},
   "outputs": [
    {
     "data": {
      "image/png": "[encoded data removed]",
      "text/latex": [
       "$$c_{1}^{2} - 2 c_{1} x + c_{2}^{2} - 2 c_{2} y + r_{1}^{2} - r_{2}^{2}$$"
      ],
      "text/plain": [
       "  2              2              2     2\n",
       "c₁  - 2⋅c₁⋅x + c₂  - 2⋅c₂⋅y + r₁  - r₂ "
      ]
     },
     "execution_count": 5,
     "metadata": {},
     "output_type": "execute_result"
    }
   ],
   "source": [
    "temp2 = temp1-circle1\n",
    "temp2"
   ]
  },
  {
   "cell_type": "markdown",
   "metadata": {},
   "source": [
    "We can now isolate y"
   ]
  },
  {
   "cell_type": "code",
   "execution_count": 6,
   "metadata": {},
   "outputs": [
    {
     "data": {
      "image/png": "[encoded data removed]",
      "text/latex": [
       "$$\\frac{1}{2 c_{2}} \\left(c_{1}^{2} - 2 c_{1} x + c_{2}^{2} + r_{1}^{2} - r_{2}^{2}\\right)$$"
      ],
      "text/plain": [
       "  2              2     2     2\n",
       "c₁  - 2⋅c₁⋅x + c₂  + r₁  - r₂ \n",
       "──────────────────────────────\n",
       "             2⋅c₂             "
      ]
     },
     "execution_count": 6,
     "metadata": {},
     "output_type": "execute_result"
    }
   ],
   "source": [
    "y_solv = sp.solve(temp2, y)\n",
    "y_solv[0]"
   ]
  },
  {
   "cell_type": "markdown",
   "metadata": {},
   "source": [
    "let's factor this expression"
   ]
  },
  {
   "cell_type": "markdown",
   "metadata": {},
   "source": [
    "We can now substitute this expression for y directly in the equation for the first circle and solve for x"
   ]
  },
  {
   "cell_type": "code",
   "execution_count": 7,
   "metadata": {},
   "outputs": [
    {
     "data": {
      "image/png": "[encoded data removed]",
      "text/latex": [
       "$$- r_{1}^{2} + x^{2} + \\frac{1}{4 c_{2}^{2}} \\left(c_{1}^{2} - 2 c_{1} x + c_{2}^{2} + r_{1}^{2} - r_{2}^{2}\\right)^{2}$$"
      ],
      "text/plain": [
       "                                             2\n",
       "             ⎛  2              2     2     2⎞ \n",
       "    2    2   ⎝c₁  - 2⋅c₁⋅x + c₂  + r₁  - r₂ ⎠ \n",
       "- r₁  + x  + ─────────────────────────────────\n",
       "                               2              \n",
       "                           4⋅c₂               "
      ]
     },
     "execution_count": 7,
     "metadata": {},
     "output_type": "execute_result"
    }
   ],
   "source": [
    "temp3 = circle1.subs(y, y_solv[0])\n",
    "temp3"
   ]
  },
  {
   "cell_type": "code",
   "execution_count": 8,
   "metadata": {},
   "outputs": [],
   "source": [
    "x_solv = sp.solve(temp3, x)"
   ]
  },
  {
   "cell_type": "markdown",
   "metadata": {},
   "source": [
    "The solutions are then:"
   ]
  },
  {
   "cell_type": "code",
   "execution_count": 9,
   "metadata": {},
   "outputs": [
    {
     "name": "stdout",
     "output_type": "stream",
     "text": [
      "x1\n"
     ]
    },
    {
     "data": {
      "image/png": "[encoded data removed]",
      "text/latex": [
       "$$\\frac{1}{2 \\left(c_{1}^{2} + c_{2}^{2}\\right)} \\left(c_{1} \\left(c_{1}^{2} + c_{2}^{2} + r_{1}^{2} - r_{2}^{2}\\right) - c_{2} \\sqrt{\\left(- c_{1}^{2} - c_{2}^{2} + r_{1}^{2} + 2 r_{1} r_{2} + r_{2}^{2}\\right) \\left(c_{1}^{2} + c_{2}^{2} - r_{1}^{2} + 2 r_{1} r_{2} - r_{2}^{2}\\right)}\\right)$$"
      ],
      "text/plain": [
       "                                   ___________________________________________\n",
       "   ⎛  2     2     2     2⎞        ╱ ⎛    2     2     2               2⎞ ⎛  2  \n",
       "c₁⋅⎝c₁  + c₂  + r₁  - r₂ ⎠ - c₂⋅╲╱  ⎝- c₁  - c₂  + r₁  + 2⋅r₁⋅r₂ + r₂ ⎠⋅⎝c₁  +\n",
       "──────────────────────────────────────────────────────────────────────────────\n",
       "                                                ⎛  2     2⎞                   \n",
       "                                              2⋅⎝c₁  + c₂ ⎠                   \n",
       "\n",
       "____________________________\n",
       "   2     2               2⎞ \n",
       " c₂  - r₁  + 2⋅r₁⋅r₂ - r₂ ⎠ \n",
       "────────────────────────────\n",
       "                            \n",
       "                            "
      ]
     },
     "execution_count": 9,
     "metadata": {},
     "output_type": "execute_result"
    }
   ],
   "source": [
    "print('x1') \n",
    "x_solv[0]"
   ]
  },
  {
   "cell_type": "code",
   "execution_count": 10,
   "metadata": {},
   "outputs": [
    {
     "name": "stdout",
     "output_type": "stream",
     "text": [
      "x2\n"
     ]
    },
    {
     "data": {
      "image/png": "[encoded data removed]",
      "text/latex": [
       "$$\\frac{1}{2 \\left(c_{1}^{2} + c_{2}^{2}\\right)} \\left(c_{1} \\left(c_{1}^{2} + c_{2}^{2} + r_{1}^{2} - r_{2}^{2}\\right) + c_{2} \\sqrt{\\left(- c_{1}^{2} - c_{2}^{2} + r_{1}^{2} + 2 r_{1} r_{2} + r_{2}^{2}\\right) \\left(c_{1}^{2} + c_{2}^{2} - r_{1}^{2} + 2 r_{1} r_{2} - r_{2}^{2}\\right)}\\right)$$"
      ],
      "text/plain": [
       "                                   ___________________________________________\n",
       "   ⎛  2     2     2     2⎞        ╱ ⎛    2     2     2               2⎞ ⎛  2  \n",
       "c₁⋅⎝c₁  + c₂  + r₁  - r₂ ⎠ + c₂⋅╲╱  ⎝- c₁  - c₂  + r₁  + 2⋅r₁⋅r₂ + r₂ ⎠⋅⎝c₁  +\n",
       "──────────────────────────────────────────────────────────────────────────────\n",
       "                                                ⎛  2     2⎞                   \n",
       "                                              2⋅⎝c₁  + c₂ ⎠                   \n",
       "\n",
       "____________________________\n",
       "   2     2               2⎞ \n",
       " c₂  - r₁  + 2⋅r₁⋅r₂ - r₂ ⎠ \n",
       "────────────────────────────\n",
       "                            \n",
       "                            "
      ]
     },
     "execution_count": 10,
     "metadata": {},
     "output_type": "execute_result"
    }
   ],
   "source": [
    "print('x2')\n",
    "x_solv[1]"
   ]
  },
  {
   "cell_type": "code",
   "execution_count": 11,
   "metadata": {},
   "outputs": [
    {
     "name": "stdout",
     "output_type": "stream",
     "text": [
      "and for each x, calculate y by:\n"
     ]
    },
    {
     "data": {
      "image/png": "[encoded data removed]",
      "text/latex": [
       "$$\\frac{1}{2 c_{2}} \\left(c_{1}^{2} - 2 c_{1} x + c_{2}^{2} + r_{1}^{2} - r_{2}^{2}\\right)$$"
      ],
      "text/plain": [
       "  2              2     2     2\n",
       "c₁  - 2⋅c₁⋅x + c₂  + r₁  - r₂ \n",
       "──────────────────────────────\n",
       "             2⋅c₂             "
      ]
     },
     "execution_count": 11,
     "metadata": {},
     "output_type": "execute_result"
    }
   ],
   "source": [
    "print('and for each x, calculate y by:')\n",
    "y_solv[0]"
   ]
  },
  {
   "cell_type": "code",
   "execution_count": null,
   "metadata": {},
   "outputs": [],
   "source": []
  }
 ],
 "metadata": {
  "kernelspec": {
   "display_name": "Python 3",
   "language": "python",
   "name": "python3"
  },
  "language_info": {
   "codemirror_mode": {
    "name": "ipython",
    "version": 3
   },
   "file_extension": ".py",
   "mimetype": "text/x-python",
   "name": "python",
   "nbconvert_exporter": "python",
   "pygments_lexer": "ipython3",
   "version": "3.6.5"
  }
 },
 "nbformat": 4,
 "nbformat_minor": 2
}
